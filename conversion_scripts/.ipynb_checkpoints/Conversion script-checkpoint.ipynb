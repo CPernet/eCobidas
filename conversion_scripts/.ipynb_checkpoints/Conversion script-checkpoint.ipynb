{
 "cells": [
  {
   "cell_type": "code",
   "execution_count": 1,
   "metadata": {},
   "outputs": [],
   "source": [
    "import json\n",
    "import os\n",
    "import csv\n"
   ]
  },
  {
   "cell_type": "code",
   "execution_count": 2,
   "metadata": {},
   "outputs": [],
   "source": [
    "# where the metadata from neurovault are described. It is in xlsx folder of this repos\n",
    "# but it can also be downloaded from here:\n",
    "# https://github.com/NeuroVault/NeuroVault/blob/master/scripts/metadata_neurovault.csv\n",
    "INPUT_FILE = '/home/remi/github/COBIDAS_chckls/xlsx/metadata_neurovault.csv'\n",
    "\n",
    "# where the files will be written on your machine: the local repository\n",
    "# corresponding to the remote where of the reproschema will be hosted\n",
    "OUTPUT_DIR = '/home/remi/github/COBIDAS_chckls'\n",
    "\n",
    "# Placeholder to insert in all instances of the remote repo that will host the schema representation\n",
    "# Most likely you just need to replace Remi-Gau in the following line by your github username\n",
    "REMOTE_REPO = 'https://raw.githubusercontent.com/Remi-Gau/COBIDAS_chckls/'\n",
    "\n",
    "# to which branch of reproschema the user interface will be pointed to\n",
    "# In the end the cobidas-UI repository will be reading the schema from the URL that that\n",
    "# starts with: REMOTE_REPO + BRANCH_NAME\n",
    "BRANCH_NAME = 'neurovault'\n",
    "\n",
    "REPRONIM_REPO = 'https://raw.githubusercontent.com/ReproNim/reproschema/master/'\n"
   ]
  },
  {
   "cell_type": "code",
   "execution_count": 3,
   "metadata": {},
   "outputs": [],
   "source": [
    "# activity set names\n",
    "PROTOCOL_NAME = 'neurovault_'\n",
    "\n",
    "# CSV column\n",
    "SECTION_COLUMN = 1\n",
    "ITEM_COLUMN = 2\n",
    "QUESTION_COLUMN = 3\n",
    "RESPONSE_TYPE_COLUMN = 4\n",
    "CHOICE_COLUMN = 5\n",
    "MANDATORY_COLUMN = 6\n",
    "VISIBILITY_COLUMN = 7\n",
    "\n",
    "# protocol names\n",
    "PROTOCOL_SCHEMA_FILENAME = PROTOCOL_NAME + 'schema'\n",
    "PROTOCOL_CONTEXT_FILENAME = PROTOCOL_NAME +  'context'\n",
    "PROTOCOL_FOLDER_NAME = PROTOCOL_NAME[0:-1]\n",
    "\n",
    "# VERSION\n",
    "VERSION = '0.0.1'"
   ]
  },
  {
   "cell_type": "code",
   "execution_count": 4,
   "metadata": {},
   "outputs": [],
   "source": [
    "# make output directories\n",
    "if not os.path.exists(os.path.join(OUTPUT_DIR, 'protocols', PROTOCOL_FOLDER_NAME)):\n",
    "    os.makedirs(os.path.join(OUTPUT_DIR, 'protocols', PROTOCOL_FOLDER_NAME))\n"
   ]
  },
  {
   "cell_type": "code",
   "execution_count": 5,
   "metadata": {},
   "outputs": [],
   "source": [
    "# define the activity set neurovault_schema.jsonld\n",
    "PROTOCOL_SCHEMA_JSON = {\n",
    "    '@context': [REPRONIM_REPO + 'contexts/generic',\n",
    "                 REMOTE_REPO + BRANCH_NAME + '/protocols/'\n",
    "                 + PROTOCOL_FOLDER_NAME + '/'\n",
    "                 + PROTOCOL_CONTEXT_FILENAME\n",
    "                ],\n",
    "    '@type': 'reproschema:Protocol',\n",
    "    '@id': PROTOCOL_SCHEMA_FILENAME,\n",
    "    'skos:prefLabel': PROTOCOL_SCHEMA_FILENAME,\n",
    "    'schema:description': PROTOCOL_SCHEMA_FILENAME,\n",
    "    'schema:schemaVersion': VERSION,\n",
    "    'schema:version': VERSION,\n",
    "    'landingPage': REMOTE_REPO + BRANCH_NAME + '/protocols/README.md',\n",
    "    'variableMap': [],\n",
    "    'ui': {\n",
    "        'order': [],\n",
    "        'shuffle': False,\n",
    "        'activity_display_name': {},\n",
    "        'visibility': {}\n",
    "    }\n",
    "}"
   ]
  },
  {
   "cell_type": "code",
   "execution_count": 6,
   "metadata": {},
   "outputs": [],
   "source": [
    "# define the activity set neurovault_context.jsonld\n",
    "PROTOCOL_CONTEXT_JSON = {\n",
    "    '@context': {\n",
    "        '@version': 1.1,\n",
    "        'activity_path': REMOTE_REPO + BRANCH_NAME + '/activities/',\n",
    "    }\n",
    "}"
   ]
  },
  {
   "cell_type": "code",
   "execution_count": 42,
   "metadata": {},
   "outputs": [
    {
     "name": "stdout",
     "output_type": "stream",
     "text": [
      "Field Label\n",
      "Blocked, event-related, hybrid, or other\n",
      "Number of imaging runs acquired\n",
      "Number of blocks, trials or experimental units per imaging run\n",
      "Length of each imaging run in seconds\n",
      "For blocked designs, length of blocks in seconds\n",
      "Length of individual trials in seconds\n",
      "Was the design optimized for efficiency\n",
      "What method was used for optimization?\n",
      "Number of subjects entering into the analysis\n",
      "Mean age of subjects\n",
      "Minimum age of subjects\n",
      "Maximum age of subjects\n",
      "Handedness of subjects\n",
      "The proportion of subjects who were male\n",
      "Additional inclusion/exclusion criteria, if any (including specific sampling strategies that limit inclusion to a specific group, such as laboratory members)\n",
      "Number of subjects scanned but rejected from analysis\n",
      "Was this study a comparison between subject groups?\n",
      "A description of the groups being compared\n",
      "Manufacturer of MRI scanner\n",
      "Model of MRI scanner\n",
      "Field strength of MRI scanner (in Tesla)\n",
      "Description of pulse sequence used for fMRI\n",
      "Description of parallel imaging method and parameters\n",
      "Imaging field of view in millimeters\n",
      "Matrix size for MRI acquisition\n",
      "Distance between slices (includes skip or distance factor) in millimeters\n",
      "The size of the skipped area between slices in millimeters\n",
      "The orientation of slices\n",
      "Order of acquisition of slices (ascending, descending, or interleaved)\n",
      "Repetition time (TR) in milliseconds\n",
      "Echo time (TE) in milliseconds\n",
      "Flip angle in degrees\n",
      "If a single software package was used for all analyses, specify that here\n",
      "Version of software package used\n",
      "Specify order of preprocessing operations\n",
      "Describe quality control measures\n",
      "Was B0 distortion correction used?\n",
      "Specify software used for distortion correction if different from the main package\n",
      "Was slice timing correction used?\n",
      "Specify software used for slice timing correction if different from the main package\n",
      "Was motion correction used?\n",
      "Specify software used for motion correction if different from the main package\n",
      "Reference scan used for motion correction\n",
      "Similarity metric used for motion correction\n",
      "Interpolation method used for motion correction\n",
      "Was motion-susceptibility correction used?\n",
      "Were subjects registered to a common stereotactic space?\n",
      "Specify software used for intersubject registration if different from main package\n",
      "Was linear or nonlinear registration used?\n",
      "If nonlinear registration was used, describe transform method\n",
      "Similarity metric used for intersubject registration\n",
      "Interpolation method used for intersubject registration\n",
      "What type of image was used to determine the transformation to the atlas?\n",
      "Were the functional images coregistered to the subject's structural image?\n",
      "Method used to coregister functional to structural images\n",
      "Name of coordinate space for registration target\n",
      "Name of target template image\n",
      "Voxel size of target template in millimeters\n",
      "Was spatial smoothing applied?\n",
      "Describe the type of smoothing applied\n",
      "The full-width at half-maximum of the smoothing kernel in millimeters\n",
      "Voxel size in mm of the resampled, atlas-space images\n",
      "Type of group model used\n",
      "Estimation method used for model\n",
      "Software used for intrasubject modeling if different from overall package\n",
      "Nature of HRF model\n",
      "Were temporal derivatives included?\n",
      "Were dispersion derivatives included?\n",
      "Were motion regressors included?\n",
      "Was a reaction time regressor included?\n",
      "Were any regressors specifically orthogonalized with respect to others?\n",
      "If orthogonalization was used, describe here\n",
      "Was high pass filtering applied?\n",
      "Describe method used for high pass filtering\n",
      "What autocorrelation model was used (or 'none' of none was used)\n",
      "Exactly what terms are subtracted from what? Define these in terms of task or stimulus conditions (e.g., 'one-back task with objects versus zero-back task with objects') instead of underlying psychological concepts (e.g., 'working memory').\n",
      "Link to Cognitive Atlas definition of this contrast\n",
      "Type of group model used\n",
      "Estimation method used for model\n",
      "Software used for group modeling if different from overall package\n",
      "Type of inference for group model\n",
      "If more than 2-levels, describe the levels and assumptions of the model (e.g. are variances assumed equal between groups)\n",
      "Was this a repeated measures design at the group level?\n",
      "If multiple measurements per subject, list method to account for within subject correlation, exact assumptions made about correlation/variance\n",
      "Type of statistic that is the basis of the inference\n",
      "Parameters of the null distribution of the test statisic, typically degrees of freedom (should be clear from the test statistic what these are).\n",
      "Noise smoothness for statistical inference; this is the estimated smoothness used with Random Field Theory or a simulation-based inference method.\n"
     ]
    }
   ],
   "source": [
    "with open(INPUT_FILE, 'r') as csvfile:\n",
    "    PROTOCOL_METADATA = csv.reader(csvfile)\n",
    "    for row in PROTOCOL_METADATA:\n",
    "        # to skip the header\n",
    "        print(row[3])"
   ]
  },
  {
   "cell_type": "code",
   "execution_count": 30,
   "metadata": {},
   "outputs": [
    {
     "data": {
      "text/plain": [
       "<_csv.Dialect at 0x7f0b5977a5f0>"
      ]
     },
     "execution_count": 30,
     "metadata": {},
     "output_type": "execute_result"
    }
   ],
   "source": [
    "PROTOCOL_METADATA\n",
    "\n"
   ]
  },
  {
   "cell_type": "code",
   "execution_count": null,
   "metadata": {},
   "outputs": [],
   "source": []
  }
 ],
 "metadata": {
  "kernelspec": {
   "display_name": "Python 3",
   "language": "python",
   "name": "python3"
  },
  "language_info": {
   "codemirror_mode": {
    "name": "ipython",
    "version": 3
   },
   "file_extension": ".py",
   "mimetype": "text/x-python",
   "name": "python",
   "nbconvert_exporter": "python",
   "pygments_lexer": "ipython3",
   "version": "3.7.4"
  }
 },
 "nbformat": 4,
 "nbformat_minor": 2
}
