{
 "cells": [
  {
   "cell_type": "code",
   "execution_count": 1,
   "metadata": {},
   "outputs": [],
   "source": [
    "import json\n",
    "import os\n",
    "import csv\n"
   ]
  },
  {
   "cell_type": "code",
   "execution_count": 2,
   "metadata": {},
   "outputs": [],
   "source": [
    "# where the metadata from neurovault are described. It is in xlsx folder of this repos\n",
    "# but it can also be downloaded from here:\n",
    "# https://github.com/NeuroVault/NeuroVault/blob/master/scripts/metadata_neurovault.csv\n",
    "INPUT_FILE = '/home/remi/github/COBIDAS_chckls/xlsx/metadata_neurovault.csv'\n",
    "\n",
    "# where the files will be written on your machine: the local repository\n",
    "# corresponding to the remote where of the reproschema will be hosted\n",
    "OUTPUT_DIR = '/home/remi/github/COBIDAS_chckls'\n",
    "\n",
    "# Placeholder to insert in all instances of the remote repo that will host the schema representation\n",
    "# Most likely you just need to replace Remi-Gau in the following line by your github username\n",
    "REMOTE_REPO = 'https://raw.githubusercontent.com/Remi-Gau/COBIDAS_chckls/'\n",
    "\n",
    "# to which branch of reproschema the user interface will be pointed to\n",
    "# In the end the cobidas-UI repository will be reading the schema from the URL that that\n",
    "# starts with: REMOTE_REPO + BRANCH_NAME\n",
    "BRANCH_NAME = 'neurovault'\n",
    "\n",
    "REPRONIM_REPO = 'https://raw.githubusercontent.com/ReproNim/reproschema/master/'\n"
   ]
  },
  {
   "cell_type": "code",
   "execution_count": 44,
   "metadata": {},
   "outputs": [],
   "source": [
    "# activity set names\n",
    "PROTOCOL_NAME = 'neurovault_'\n",
    "\n",
    "# CSV column\n",
    "SECTION_COLUMN = 1\n",
    "ITEM_COLUMN = 2\n",
    "QUESTION_COLUMN = 3\n",
    "RESPONSE_TYPE_COLUMN = 4\n",
    "CHOICE_COLUMN = 5\n",
    "MANDATORY_COLUMN = 6\n",
    "VISIBILITY_COLUMN = 7\n",
    "\n",
    "# protocol names\n",
    "PROTOCOL_SCHEMA_FILENAME = PROTOCOL_NAME + 'schema'\n",
    "PROTOCOL_CONTEXT_FILENAME = PROTOCOL_NAME +  'context'\n",
    "PROTOCOL_FOLDER_NAME = PROTOCOL_NAME[0:-1]\n",
    "\n",
    "# VERSION\n",
    "VERSION = '0.0.1'"
   ]
  },
  {
   "cell_type": "code",
   "execution_count": 4,
   "metadata": {},
   "outputs": [],
   "source": [
    "# make output directories\n",
    "if not os.path.exists(os.path.join(OUTPUT_DIR, 'protocols', PROTOCOL_FOLDER_NAME)):\n",
    "    os.makedirs(os.path.join(OUTPUT_DIR, 'protocols', PROTOCOL_FOLDER_NAME))\n"
   ]
  },
  {
   "cell_type": "code",
   "execution_count": 5,
   "metadata": {},
   "outputs": [],
   "source": [
    "# define the activity set neurovault_schema.jsonld\n",
    "PROTOCOL_SCHEMA_JSON = {\n",
    "    '@context': [REPRONIM_REPO + 'contexts/generic',\n",
    "                 REMOTE_REPO + BRANCH_NAME + '/protocols/'\n",
    "                 + PROTOCOL_FOLDER_NAME + '/'\n",
    "                 + PROTOCOL_CONTEXT_FILENAME\n",
    "                ],\n",
    "    '@type': 'reproschema:Protocol',\n",
    "    '@id': PROTOCOL_SCHEMA_FILENAME,\n",
    "    'skos:prefLabel': PROTOCOL_SCHEMA_FILENAME,\n",
    "    'schema:description': PROTOCOL_SCHEMA_FILENAME,\n",
    "    'schema:schemaVersion': VERSION,\n",
    "    'schema:version': VERSION,\n",
    "    'landingPage': REMOTE_REPO + BRANCH_NAME + '/protocols/README.md',\n",
    "    'variableMap': [],\n",
    "    'ui': {\n",
    "        'order': [],\n",
    "        'shuffle': False,\n",
    "        'activity_display_name': {},\n",
    "        'visibility': {}\n",
    "    }\n",
    "}"
   ]
  },
  {
   "cell_type": "code",
   "execution_count": 6,
   "metadata": {},
   "outputs": [],
   "source": [
    "# define the activity set neurovault_context.jsonld\n",
    "PROTOCOL_CONTEXT_JSON = {\n",
    "    '@context': {\n",
    "        '@version': 1.1,\n",
    "        'activity_path': REMOTE_REPO + BRANCH_NAME + '/activities/',\n",
    "    }\n",
    "}"
   ]
  },
  {
   "cell_type": "code",
   "execution_count": 45,
   "metadata": {},
   "outputs": [
    {
     "name": "stdout",
     "output_type": "stream",
     "text": [
      "Item\n",
      "type_of_design\n",
      "number_of_imaging_runs\n",
      "number_of_experimental_units\n",
      "length_of_runs\n",
      "length_of_blocks\n",
      "length_of_trials\n",
      "optimization\n",
      "optimization_method\n",
      "number_of_subjects\n",
      "subject_age_mean\n",
      "subject_age_min\n",
      "subject_age_max\n",
      "handedness\n",
      "proportion_male_subjects\n",
      "inclusion_exclusion_criteria\n",
      "number_of_rejected_subjects\n",
      "group_comparison\n",
      "group_description\n",
      "scanner_make\n",
      "scanner_model\n",
      "field_strength\n",
      "pulse_sequence\n",
      "parallel_imaging\n",
      "field_of_view\n",
      "matrix_size\n",
      "slice_thickness\n",
      "skip_factor\n",
      "acquisition_orientation\n",
      "order_of_acquisition\n",
      "repetition_time\n",
      "echo_time\n",
      "flip_angle\n",
      "software_package\n",
      "software_version\n",
      "order_of_preprocessing_operations\n",
      "quality_control\n",
      "used_b0_unwarping\n",
      "b0_unwarping_software\n",
      "used_slice_timing_correction\n",
      "slice_timing_correction_software\n",
      "used_motion_correction\n",
      "motion_correction_software\n",
      "motion_correction_reference\n",
      "motion_correction_metric\n",
      "motion_correction_interpolation\n",
      "used_motion_susceptibiity_correction\n",
      "used_intersubject_registration\n",
      "intersubject_registration_software\n",
      "intersubject_transformation_type\n",
      "nonlinear_transform_type\n",
      "transform_similarity_metric\n",
      "interpolation_method\n",
      "object_image_type\n",
      "functional_coregistered_to_structural\n",
      "functional_coregistration_method\n",
      "coordinate_space\n",
      "target_template_image\n",
      "target_resolution\n",
      "used_smoothing\n",
      "smoothing_type\n",
      "smoothing_fwhm\n",
      "resampled_voxel_size\n",
      "intrasubject_model_type\n",
      "intrasubject_estimation_type\n",
      "intrasubject_modeling_software\n",
      "hemodynamic_response_function\n",
      "used_temporal_derivatives\n",
      "used_dispersion_derivatives\n",
      "used_motion_regressors\n",
      "used_reaction_time_regressor\n",
      "used_orthogonalization\n",
      "orthogonalization_description\n",
      "used_high_pass_filter\n",
      "high_pass_filter_method\n",
      "autocorrelation_model\n",
      "contrast_definition\n",
      "contrast_definition_cogatlas\n",
      "group_model_type\n",
      "group_estimation_type\n",
      "group_modeling_software\n",
      "group_inference_type\n",
      "group_model_multilevel\n",
      "group_repeated_measures\n",
      "group_repeated_measures_method\n",
      "group_statistic_type\n",
      "group_statistic_parameters\n",
      "group_smoothness_fwhm\n"
     ]
    }
   ],
   "source": [
    "with open(INPUT_FILE, 'r') as csvfile:\n",
    "    PROTOCOL_METADATA = csv.reader(csvfile)\n",
    "    for row in PROTOCOL_METADATA:\n",
    "        # to skip the header\n",
    "        print(row[ITEM_COLUMN])"
   ]
  },
  {
   "cell_type": "code",
   "execution_count": 30,
   "metadata": {},
   "outputs": [
    {
     "data": {
      "text/plain": [
       "<_csv.Dialect at 0x7f0b5977a5f0>"
      ]
     },
     "execution_count": 30,
     "metadata": {},
     "output_type": "execute_result"
    }
   ],
   "source": [
    "PROTOCOL_METADATA\n",
    "\n"
   ]
  },
  {
   "cell_type": "code",
   "execution_count": null,
   "metadata": {},
   "outputs": [],
   "source": []
  }
 ],
 "metadata": {
  "kernelspec": {
   "display_name": "Python 3",
   "language": "python",
   "name": "python3"
  },
  "language_info": {
   "codemirror_mode": {
    "name": "ipython",
    "version": 3
   },
   "file_extension": ".py",
   "mimetype": "text/x-python",
   "name": "python",
   "nbconvert_exporter": "python",
   "pygments_lexer": "ipython3",
   "version": "3.7.4"
  }
 },
 "nbformat": 4,
 "nbformat_minor": 2
}
